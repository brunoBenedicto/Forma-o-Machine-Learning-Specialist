{
  "cells": [
    {
      "cell_type": "markdown",
      "metadata": {
        "id": "view-in-github",
        "colab_type": "text"
      },
      "source": [
        "<a href=\"https://colab.research.google.com/github/brunoBenedicto/Forma-o-Machine-Learning-Specialist/blob/main/Cross_Validation.ipynb\" target=\"_parent\"><img src=\"https://colab.research.google.com/assets/colab-badge.svg\" alt=\"Open In Colab\"/></a>"
      ]
    },
    {
      "cell_type": "markdown",
      "metadata": {
        "id": "WlBtPAC93Rnc"
      },
      "source": [
        "# Cross Validation\n",
        "> Holdout sets are a great start to model validation. However, using a single train and test set if often not enough. Cross-validation is considered the gold standard when it comes to validating model performance and is almost always used when tuning model hyper-parameters. This chapter focuses on performing cross-validation to validate model performance. This is the Summary of lecture \"Model Validation in Python\", via datacamp.\n",
        "\n",
        "- toc: true \n",
        "- badges: true\n",
        "- comments: true\n",
        "- author: Chanseok Kang\n",
        "- categories: [Python, Datacamp, Machine_Learning]\n",
        "- image: images/loocv.png"
      ]
    },
    {
      "cell_type": "code",
      "execution_count": 1,
      "metadata": {
        "id": "5dzce4QW3Rnh"
      },
      "outputs": [],
      "source": [
        "import pandas as pd\n",
        "import numpy as np\n",
        "import matplotlib.pyplot as plt\n",
        " \n",
        "plt.rcParams['figure.figsize'] = (8, 8)"
      ]
    },
    {
      "cell_type": "markdown",
      "metadata": {
        "id": "w8mbo3ym3Rni"
      },
      "source": [
        "## The problems with holdout sets"
      ]
    },
    {
      "cell_type": "markdown",
      "metadata": {
        "id": "lfduCtIs3Rnj"
      },
      "source": [
        "### Two samples\n",
        "After building several classification models based on the `tic_tac_toe` dataset, you realize that some models do not generalize as well as others. You have created training and testing splits just as you have been taught, so you are curious why your validation process is not working.\n",
        "\n",
        "After trying a different training, test split, you noticed differing accuracies for your machine learning model. Before getting too frustrated with the varying results, you have decided to see what else could be going on."
      ]
    },
    {
      "cell_type": "code",
      "execution_count": 6,
      "metadata": {
        "id": "L907atqZ3Rnj",
        "outputId": "7199ee01-c881-410b-97a7-2cddb9191e50",
        "colab": {
          "base_uri": "https://localhost:8080/",
          "height": 206
        }
      },
      "outputs": [
        {
          "output_type": "execute_result",
          "data": {
            "text/plain": [
              "   x x.1 x.2 x.3  o o.1 x.4 o.2 o.3  positive\n",
              "0  x   x   x   x  o   o   o   x   o  positive\n",
              "1  x   x   x   x  o   o   o   o   x  positive\n",
              "2  x   x   x   x  o   o   o   b   b  positive\n",
              "3  x   x   x   x  o   o   b   o   b  positive\n",
              "4  x   x   x   x  o   o   b   b   o  positive"
            ],
            "text/html": [
              "\n",
              "  <div id=\"df-87e704a7-10bb-4c64-b82c-1fa067700578\">\n",
              "    <div class=\"colab-df-container\">\n",
              "      <div>\n",
              "<style scoped>\n",
              "    .dataframe tbody tr th:only-of-type {\n",
              "        vertical-align: middle;\n",
              "    }\n",
              "\n",
              "    .dataframe tbody tr th {\n",
              "        vertical-align: top;\n",
              "    }\n",
              "\n",
              "    .dataframe thead th {\n",
              "        text-align: right;\n",
              "    }\n",
              "</style>\n",
              "<table border=\"1\" class=\"dataframe\">\n",
              "  <thead>\n",
              "    <tr style=\"text-align: right;\">\n",
              "      <th></th>\n",
              "      <th>x</th>\n",
              "      <th>x.1</th>\n",
              "      <th>x.2</th>\n",
              "      <th>x.3</th>\n",
              "      <th>o</th>\n",
              "      <th>o.1</th>\n",
              "      <th>x.4</th>\n",
              "      <th>o.2</th>\n",
              "      <th>o.3</th>\n",
              "      <th>positive</th>\n",
              "    </tr>\n",
              "  </thead>\n",
              "  <tbody>\n",
              "    <tr>\n",
              "      <th>0</th>\n",
              "      <td>x</td>\n",
              "      <td>x</td>\n",
              "      <td>x</td>\n",
              "      <td>x</td>\n",
              "      <td>o</td>\n",
              "      <td>o</td>\n",
              "      <td>o</td>\n",
              "      <td>x</td>\n",
              "      <td>o</td>\n",
              "      <td>positive</td>\n",
              "    </tr>\n",
              "    <tr>\n",
              "      <th>1</th>\n",
              "      <td>x</td>\n",
              "      <td>x</td>\n",
              "      <td>x</td>\n",
              "      <td>x</td>\n",
              "      <td>o</td>\n",
              "      <td>o</td>\n",
              "      <td>o</td>\n",
              "      <td>o</td>\n",
              "      <td>x</td>\n",
              "      <td>positive</td>\n",
              "    </tr>\n",
              "    <tr>\n",
              "      <th>2</th>\n",
              "      <td>x</td>\n",
              "      <td>x</td>\n",
              "      <td>x</td>\n",
              "      <td>x</td>\n",
              "      <td>o</td>\n",
              "      <td>o</td>\n",
              "      <td>o</td>\n",
              "      <td>b</td>\n",
              "      <td>b</td>\n",
              "      <td>positive</td>\n",
              "    </tr>\n",
              "    <tr>\n",
              "      <th>3</th>\n",
              "      <td>x</td>\n",
              "      <td>x</td>\n",
              "      <td>x</td>\n",
              "      <td>x</td>\n",
              "      <td>o</td>\n",
              "      <td>o</td>\n",
              "      <td>b</td>\n",
              "      <td>o</td>\n",
              "      <td>b</td>\n",
              "      <td>positive</td>\n",
              "    </tr>\n",
              "    <tr>\n",
              "      <th>4</th>\n",
              "      <td>x</td>\n",
              "      <td>x</td>\n",
              "      <td>x</td>\n",
              "      <td>x</td>\n",
              "      <td>o</td>\n",
              "      <td>o</td>\n",
              "      <td>b</td>\n",
              "      <td>b</td>\n",
              "      <td>o</td>\n",
              "      <td>positive</td>\n",
              "    </tr>\n",
              "  </tbody>\n",
              "</table>\n",
              "</div>\n",
              "      <button class=\"colab-df-convert\" onclick=\"convertToInteractive('df-87e704a7-10bb-4c64-b82c-1fa067700578')\"\n",
              "              title=\"Convert this dataframe to an interactive table.\"\n",
              "              style=\"display:none;\">\n",
              "        \n",
              "  <svg xmlns=\"http://www.w3.org/2000/svg\" height=\"24px\"viewBox=\"0 0 24 24\"\n",
              "       width=\"24px\">\n",
              "    <path d=\"M0 0h24v24H0V0z\" fill=\"none\"/>\n",
              "    <path d=\"M18.56 5.44l.94 2.06.94-2.06 2.06-.94-2.06-.94-.94-2.06-.94 2.06-2.06.94zm-11 1L8.5 8.5l.94-2.06 2.06-.94-2.06-.94L8.5 2.5l-.94 2.06-2.06.94zm10 10l.94 2.06.94-2.06 2.06-.94-2.06-.94-.94-2.06-.94 2.06-2.06.94z\"/><path d=\"M17.41 7.96l-1.37-1.37c-.4-.4-.92-.59-1.43-.59-.52 0-1.04.2-1.43.59L10.3 9.45l-7.72 7.72c-.78.78-.78 2.05 0 2.83L4 21.41c.39.39.9.59 1.41.59.51 0 1.02-.2 1.41-.59l7.78-7.78 2.81-2.81c.8-.78.8-2.07 0-2.86zM5.41 20L4 18.59l7.72-7.72 1.47 1.35L5.41 20z\"/>\n",
              "  </svg>\n",
              "      </button>\n",
              "      \n",
              "  <style>\n",
              "    .colab-df-container {\n",
              "      display:flex;\n",
              "      flex-wrap:wrap;\n",
              "      gap: 12px;\n",
              "    }\n",
              "\n",
              "    .colab-df-convert {\n",
              "      background-color: #E8F0FE;\n",
              "      border: none;\n",
              "      border-radius: 50%;\n",
              "      cursor: pointer;\n",
              "      display: none;\n",
              "      fill: #1967D2;\n",
              "      height: 32px;\n",
              "      padding: 0 0 0 0;\n",
              "      width: 32px;\n",
              "    }\n",
              "\n",
              "    .colab-df-convert:hover {\n",
              "      background-color: #E2EBFA;\n",
              "      box-shadow: 0px 1px 2px rgba(60, 64, 67, 0.3), 0px 1px 3px 1px rgba(60, 64, 67, 0.15);\n",
              "      fill: #174EA6;\n",
              "    }\n",
              "\n",
              "    [theme=dark] .colab-df-convert {\n",
              "      background-color: #3B4455;\n",
              "      fill: #D2E3FC;\n",
              "    }\n",
              "\n",
              "    [theme=dark] .colab-df-convert:hover {\n",
              "      background-color: #434B5C;\n",
              "      box-shadow: 0px 1px 3px 1px rgba(0, 0, 0, 0.15);\n",
              "      filter: drop-shadow(0px 1px 2px rgba(0, 0, 0, 0.3));\n",
              "      fill: #FFFFFF;\n",
              "    }\n",
              "  </style>\n",
              "\n",
              "      <script>\n",
              "        const buttonEl =\n",
              "          document.querySelector('#df-87e704a7-10bb-4c64-b82c-1fa067700578 button.colab-df-convert');\n",
              "        buttonEl.style.display =\n",
              "          google.colab.kernel.accessAllowed ? 'block' : 'none';\n",
              "\n",
              "        async function convertToInteractive(key) {\n",
              "          const element = document.querySelector('#df-87e704a7-10bb-4c64-b82c-1fa067700578');\n",
              "          const dataTable =\n",
              "            await google.colab.kernel.invokeFunction('convertToInteractive',\n",
              "                                                     [key], {});\n",
              "          if (!dataTable) return;\n",
              "\n",
              "          const docLinkHtml = 'Like what you see? Visit the ' +\n",
              "            '<a target=\"_blank\" href=https://colab.research.google.com/notebooks/data_table.ipynb>data table notebook</a>'\n",
              "            + ' to learn more about interactive tables.';\n",
              "          element.innerHTML = '';\n",
              "          dataTable['output_type'] = 'display_data';\n",
              "          await google.colab.output.renderOutput(dataTable, element);\n",
              "          const docLink = document.createElement('div');\n",
              "          docLink.innerHTML = docLinkHtml;\n",
              "          element.appendChild(docLink);\n",
              "        }\n",
              "      </script>\n",
              "    </div>\n",
              "  </div>\n",
              "  "
            ]
          },
          "metadata": {},
          "execution_count": 6
        }
      ],
      "source": [
        "tic_tac_toe = pd.read_csv('/content/tic-tac-toe.csv')\n",
        "tic_tac_toe.head()"
      ]
    },
    {
      "cell_type": "code",
      "source": [
        "#mudança de cabeçalho\n",
        "tic_tac_toe = tic_tac_toe.rename(columns={\n",
        "    'x': 'Top-Left',\n",
        "    'x.1': 'Top-Middle',\n",
        "    'x.2': 'Top-Right',\n",
        "    'x.3': 'Middle-Left',\n",
        "    'o': 'Middle-Middle',\n",
        "    'o.1': 'Middle-Right',\n",
        "    'x.4': 'Bottom-Left',\n",
        "    'o.2': 'Bottom-Middle',\n",
        "    'o.3': 'Bottom-Right',\n",
        "    'positive': 'Class'\n",
        "})"
      ],
      "metadata": {
        "id": "f5XauBY95Q-I"
      },
      "execution_count": 8,
      "outputs": []
    },
    {
      "cell_type": "code",
      "source": [
        "tic_tac_toe.head()"
      ],
      "metadata": {
        "colab": {
          "base_uri": "https://localhost:8080/",
          "height": 206
        },
        "id": "S3Zi3aXk6ABt",
        "outputId": "46998e36-1d18-4e19-d16d-9075f039a6d6"
      },
      "execution_count": 9,
      "outputs": [
        {
          "output_type": "execute_result",
          "data": {
            "text/plain": [
              "  Top-Left Top-Middle Top-Right Middle-Left Middle-Middle Middle-Right  \\\n",
              "0        x          x         x           x             o            o   \n",
              "1        x          x         x           x             o            o   \n",
              "2        x          x         x           x             o            o   \n",
              "3        x          x         x           x             o            o   \n",
              "4        x          x         x           x             o            o   \n",
              "\n",
              "  Bottom-Left Bottom-Middle Bottom-Right     Class  \n",
              "0           o             x            o  positive  \n",
              "1           o             o            x  positive  \n",
              "2           o             b            b  positive  \n",
              "3           b             o            b  positive  \n",
              "4           b             b            o  positive  "
            ],
            "text/html": [
              "\n",
              "  <div id=\"df-fce0c18d-0811-4bed-9d79-ac9521922fbf\">\n",
              "    <div class=\"colab-df-container\">\n",
              "      <div>\n",
              "<style scoped>\n",
              "    .dataframe tbody tr th:only-of-type {\n",
              "        vertical-align: middle;\n",
              "    }\n",
              "\n",
              "    .dataframe tbody tr th {\n",
              "        vertical-align: top;\n",
              "    }\n",
              "\n",
              "    .dataframe thead th {\n",
              "        text-align: right;\n",
              "    }\n",
              "</style>\n",
              "<table border=\"1\" class=\"dataframe\">\n",
              "  <thead>\n",
              "    <tr style=\"text-align: right;\">\n",
              "      <th></th>\n",
              "      <th>Top-Left</th>\n",
              "      <th>Top-Middle</th>\n",
              "      <th>Top-Right</th>\n",
              "      <th>Middle-Left</th>\n",
              "      <th>Middle-Middle</th>\n",
              "      <th>Middle-Right</th>\n",
              "      <th>Bottom-Left</th>\n",
              "      <th>Bottom-Middle</th>\n",
              "      <th>Bottom-Right</th>\n",
              "      <th>Class</th>\n",
              "    </tr>\n",
              "  </thead>\n",
              "  <tbody>\n",
              "    <tr>\n",
              "      <th>0</th>\n",
              "      <td>x</td>\n",
              "      <td>x</td>\n",
              "      <td>x</td>\n",
              "      <td>x</td>\n",
              "      <td>o</td>\n",
              "      <td>o</td>\n",
              "      <td>o</td>\n",
              "      <td>x</td>\n",
              "      <td>o</td>\n",
              "      <td>positive</td>\n",
              "    </tr>\n",
              "    <tr>\n",
              "      <th>1</th>\n",
              "      <td>x</td>\n",
              "      <td>x</td>\n",
              "      <td>x</td>\n",
              "      <td>x</td>\n",
              "      <td>o</td>\n",
              "      <td>o</td>\n",
              "      <td>o</td>\n",
              "      <td>o</td>\n",
              "      <td>x</td>\n",
              "      <td>positive</td>\n",
              "    </tr>\n",
              "    <tr>\n",
              "      <th>2</th>\n",
              "      <td>x</td>\n",
              "      <td>x</td>\n",
              "      <td>x</td>\n",
              "      <td>x</td>\n",
              "      <td>o</td>\n",
              "      <td>o</td>\n",
              "      <td>o</td>\n",
              "      <td>b</td>\n",
              "      <td>b</td>\n",
              "      <td>positive</td>\n",
              "    </tr>\n",
              "    <tr>\n",
              "      <th>3</th>\n",
              "      <td>x</td>\n",
              "      <td>x</td>\n",
              "      <td>x</td>\n",
              "      <td>x</td>\n",
              "      <td>o</td>\n",
              "      <td>o</td>\n",
              "      <td>b</td>\n",
              "      <td>o</td>\n",
              "      <td>b</td>\n",
              "      <td>positive</td>\n",
              "    </tr>\n",
              "    <tr>\n",
              "      <th>4</th>\n",
              "      <td>x</td>\n",
              "      <td>x</td>\n",
              "      <td>x</td>\n",
              "      <td>x</td>\n",
              "      <td>o</td>\n",
              "      <td>o</td>\n",
              "      <td>b</td>\n",
              "      <td>b</td>\n",
              "      <td>o</td>\n",
              "      <td>positive</td>\n",
              "    </tr>\n",
              "  </tbody>\n",
              "</table>\n",
              "</div>\n",
              "      <button class=\"colab-df-convert\" onclick=\"convertToInteractive('df-fce0c18d-0811-4bed-9d79-ac9521922fbf')\"\n",
              "              title=\"Convert this dataframe to an interactive table.\"\n",
              "              style=\"display:none;\">\n",
              "        \n",
              "  <svg xmlns=\"http://www.w3.org/2000/svg\" height=\"24px\"viewBox=\"0 0 24 24\"\n",
              "       width=\"24px\">\n",
              "    <path d=\"M0 0h24v24H0V0z\" fill=\"none\"/>\n",
              "    <path d=\"M18.56 5.44l.94 2.06.94-2.06 2.06-.94-2.06-.94-.94-2.06-.94 2.06-2.06.94zm-11 1L8.5 8.5l.94-2.06 2.06-.94-2.06-.94L8.5 2.5l-.94 2.06-2.06.94zm10 10l.94 2.06.94-2.06 2.06-.94-2.06-.94-.94-2.06-.94 2.06-2.06.94z\"/><path d=\"M17.41 7.96l-1.37-1.37c-.4-.4-.92-.59-1.43-.59-.52 0-1.04.2-1.43.59L10.3 9.45l-7.72 7.72c-.78.78-.78 2.05 0 2.83L4 21.41c.39.39.9.59 1.41.59.51 0 1.02-.2 1.41-.59l7.78-7.78 2.81-2.81c.8-.78.8-2.07 0-2.86zM5.41 20L4 18.59l7.72-7.72 1.47 1.35L5.41 20z\"/>\n",
              "  </svg>\n",
              "      </button>\n",
              "      \n",
              "  <style>\n",
              "    .colab-df-container {\n",
              "      display:flex;\n",
              "      flex-wrap:wrap;\n",
              "      gap: 12px;\n",
              "    }\n",
              "\n",
              "    .colab-df-convert {\n",
              "      background-color: #E8F0FE;\n",
              "      border: none;\n",
              "      border-radius: 50%;\n",
              "      cursor: pointer;\n",
              "      display: none;\n",
              "      fill: #1967D2;\n",
              "      height: 32px;\n",
              "      padding: 0 0 0 0;\n",
              "      width: 32px;\n",
              "    }\n",
              "\n",
              "    .colab-df-convert:hover {\n",
              "      background-color: #E2EBFA;\n",
              "      box-shadow: 0px 1px 2px rgba(60, 64, 67, 0.3), 0px 1px 3px 1px rgba(60, 64, 67, 0.15);\n",
              "      fill: #174EA6;\n",
              "    }\n",
              "\n",
              "    [theme=dark] .colab-df-convert {\n",
              "      background-color: #3B4455;\n",
              "      fill: #D2E3FC;\n",
              "    }\n",
              "\n",
              "    [theme=dark] .colab-df-convert:hover {\n",
              "      background-color: #434B5C;\n",
              "      box-shadow: 0px 1px 3px 1px rgba(0, 0, 0, 0.15);\n",
              "      filter: drop-shadow(0px 1px 2px rgba(0, 0, 0, 0.3));\n",
              "      fill: #FFFFFF;\n",
              "    }\n",
              "  </style>\n",
              "\n",
              "      <script>\n",
              "        const buttonEl =\n",
              "          document.querySelector('#df-fce0c18d-0811-4bed-9d79-ac9521922fbf button.colab-df-convert');\n",
              "        buttonEl.style.display =\n",
              "          google.colab.kernel.accessAllowed ? 'block' : 'none';\n",
              "\n",
              "        async function convertToInteractive(key) {\n",
              "          const element = document.querySelector('#df-fce0c18d-0811-4bed-9d79-ac9521922fbf');\n",
              "          const dataTable =\n",
              "            await google.colab.kernel.invokeFunction('convertToInteractive',\n",
              "                                                     [key], {});\n",
              "          if (!dataTable) return;\n",
              "\n",
              "          const docLinkHtml = 'Like what you see? Visit the ' +\n",
              "            '<a target=\"_blank\" href=https://colab.research.google.com/notebooks/data_table.ipynb>data table notebook</a>'\n",
              "            + ' to learn more about interactive tables.';\n",
              "          element.innerHTML = '';\n",
              "          dataTable['output_type'] = 'display_data';\n",
              "          await google.colab.output.renderOutput(dataTable, element);\n",
              "          const docLink = document.createElement('div');\n",
              "          docLink.innerHTML = docLinkHtml;\n",
              "          element.appendChild(docLink);\n",
              "        }\n",
              "      </script>\n",
              "    </div>\n",
              "  </div>\n",
              "  "
            ]
          },
          "metadata": {},
          "execution_count": 9
        }
      ]
    },
    {
      "cell_type": "code",
      "execution_count": 10,
      "metadata": {
        "id": "Wm-zQCRb3Rnl",
        "outputId": "73ac433b-d471-4a1d-d5c7-6b76c54e16e4",
        "colab": {
          "base_uri": "https://localhost:8080/"
        }
      },
      "outputs": [
        {
          "output_type": "stream",
          "name": "stdout",
          "text": [
            "46\n",
            "positive    128\n",
            "negative     72\n",
            "Name: Class, dtype: int64\n",
            "positive    124\n",
            "negative     76\n",
            "Name: Class, dtype: int64\n"
          ]
        }
      ],
      "source": [
        "# Create two different samples of 200 observations\n",
        "sample1 = tic_tac_toe.sample(n=200, random_state=1111)\n",
        "sample2 = tic_tac_toe.sample(n=200, random_state=1171)\n",
        "\n",
        "# Print the number of common observations\n",
        "print(len([index for index in sample1.index if index in sample2.index]))\n",
        "\n",
        "# Print the number of observations in the Class column for both samples\n",
        "print(sample1['Class'].value_counts())\n",
        "print(sample2['Class'].value_counts())"
      ]
    },
    {
      "cell_type": "markdown",
      "metadata": {
        "id": "WAV63J7e3Rnm"
      },
      "source": [
        "Notice that there are a varying number of positive observations for both sample test sets. Sometimes creating a single test holdout sample is not enough to achieve the high levels of model validation you want. You need to use something more robust."
      ]
    },
    {
      "cell_type": "markdown",
      "metadata": {
        "id": "d5l0Oqqt3Rnn"
      },
      "source": [
        "## Cross-validation\n",
        "![cv](https://github.com/goodboychan/chans_jupyter/blob/main/_notebooks/image/cv.png?raw=1)"
      ]
    },
    {
      "cell_type": "markdown",
      "metadata": {
        "id": "8nOeReLT3Rnn"
      },
      "source": [
        "### scikit-learn's KFold()\n",
        "You just finished running a colleagues code that creates a random forest model and calculates an out-of-sample accuracy. You noticed that your colleague's code did not have a random state, and the errors you found were completely different than the errors your colleague reported.\n",
        "\n",
        "To get a better estimate for how accurate this random forest model will be on new data, you have decided to generate some indices to use for KFold cross-validation."
      ]
    },
    {
      "cell_type": "code",
      "execution_count": 12,
      "metadata": {
        "id": "2NvHk4-R3Rno",
        "outputId": "de6c4380-96c3-4037-e48d-fc9585f618b1",
        "colab": {
          "base_uri": "https://localhost:8080/",
          "height": 206
        }
      },
      "outputs": [
        {
          "output_type": "execute_result",
          "data": {
            "text/plain": [
              "  competitorname  chocolate  fruity  caramel  peanutyalmondy  nougat  \\\n",
              "0      100 Grand          1       0        1               0       0   \n",
              "1   3 Musketeers          1       0        0               0       1   \n",
              "2       One dime          0       0        0               0       0   \n",
              "3    One quarter          0       0        0               0       0   \n",
              "4      Air Heads          0       1        0               0       0   \n",
              "\n",
              "   crispedricewafer  hard  bar  pluribus  sugarpercent  pricepercent  \\\n",
              "0                 1     0    1         0         0.732         0.860   \n",
              "1                 0     0    1         0         0.604         0.511   \n",
              "2                 0     0    0         0         0.011         0.116   \n",
              "3                 0     0    0         0         0.011         0.511   \n",
              "4                 0     0    0         0         0.906         0.511   \n",
              "\n",
              "   winpercent  \n",
              "0   66.971725  \n",
              "1   67.602936  \n",
              "2   32.261086  \n",
              "3   46.116505  \n",
              "4   52.341465  "
            ],
            "text/html": [
              "\n",
              "  <div id=\"df-28c4205e-4fa0-4b78-9066-561f901471a3\">\n",
              "    <div class=\"colab-df-container\">\n",
              "      <div>\n",
              "<style scoped>\n",
              "    .dataframe tbody tr th:only-of-type {\n",
              "        vertical-align: middle;\n",
              "    }\n",
              "\n",
              "    .dataframe tbody tr th {\n",
              "        vertical-align: top;\n",
              "    }\n",
              "\n",
              "    .dataframe thead th {\n",
              "        text-align: right;\n",
              "    }\n",
              "</style>\n",
              "<table border=\"1\" class=\"dataframe\">\n",
              "  <thead>\n",
              "    <tr style=\"text-align: right;\">\n",
              "      <th></th>\n",
              "      <th>competitorname</th>\n",
              "      <th>chocolate</th>\n",
              "      <th>fruity</th>\n",
              "      <th>caramel</th>\n",
              "      <th>peanutyalmondy</th>\n",
              "      <th>nougat</th>\n",
              "      <th>crispedricewafer</th>\n",
              "      <th>hard</th>\n",
              "      <th>bar</th>\n",
              "      <th>pluribus</th>\n",
              "      <th>sugarpercent</th>\n",
              "      <th>pricepercent</th>\n",
              "      <th>winpercent</th>\n",
              "    </tr>\n",
              "  </thead>\n",
              "  <tbody>\n",
              "    <tr>\n",
              "      <th>0</th>\n",
              "      <td>100 Grand</td>\n",
              "      <td>1</td>\n",
              "      <td>0</td>\n",
              "      <td>1</td>\n",
              "      <td>0</td>\n",
              "      <td>0</td>\n",
              "      <td>1</td>\n",
              "      <td>0</td>\n",
              "      <td>1</td>\n",
              "      <td>0</td>\n",
              "      <td>0.732</td>\n",
              "      <td>0.860</td>\n",
              "      <td>66.971725</td>\n",
              "    </tr>\n",
              "    <tr>\n",
              "      <th>1</th>\n",
              "      <td>3 Musketeers</td>\n",
              "      <td>1</td>\n",
              "      <td>0</td>\n",
              "      <td>0</td>\n",
              "      <td>0</td>\n",
              "      <td>1</td>\n",
              "      <td>0</td>\n",
              "      <td>0</td>\n",
              "      <td>1</td>\n",
              "      <td>0</td>\n",
              "      <td>0.604</td>\n",
              "      <td>0.511</td>\n",
              "      <td>67.602936</td>\n",
              "    </tr>\n",
              "    <tr>\n",
              "      <th>2</th>\n",
              "      <td>One dime</td>\n",
              "      <td>0</td>\n",
              "      <td>0</td>\n",
              "      <td>0</td>\n",
              "      <td>0</td>\n",
              "      <td>0</td>\n",
              "      <td>0</td>\n",
              "      <td>0</td>\n",
              "      <td>0</td>\n",
              "      <td>0</td>\n",
              "      <td>0.011</td>\n",
              "      <td>0.116</td>\n",
              "      <td>32.261086</td>\n",
              "    </tr>\n",
              "    <tr>\n",
              "      <th>3</th>\n",
              "      <td>One quarter</td>\n",
              "      <td>0</td>\n",
              "      <td>0</td>\n",
              "      <td>0</td>\n",
              "      <td>0</td>\n",
              "      <td>0</td>\n",
              "      <td>0</td>\n",
              "      <td>0</td>\n",
              "      <td>0</td>\n",
              "      <td>0</td>\n",
              "      <td>0.011</td>\n",
              "      <td>0.511</td>\n",
              "      <td>46.116505</td>\n",
              "    </tr>\n",
              "    <tr>\n",
              "      <th>4</th>\n",
              "      <td>Air Heads</td>\n",
              "      <td>0</td>\n",
              "      <td>1</td>\n",
              "      <td>0</td>\n",
              "      <td>0</td>\n",
              "      <td>0</td>\n",
              "      <td>0</td>\n",
              "      <td>0</td>\n",
              "      <td>0</td>\n",
              "      <td>0</td>\n",
              "      <td>0.906</td>\n",
              "      <td>0.511</td>\n",
              "      <td>52.341465</td>\n",
              "    </tr>\n",
              "  </tbody>\n",
              "</table>\n",
              "</div>\n",
              "      <button class=\"colab-df-convert\" onclick=\"convertToInteractive('df-28c4205e-4fa0-4b78-9066-561f901471a3')\"\n",
              "              title=\"Convert this dataframe to an interactive table.\"\n",
              "              style=\"display:none;\">\n",
              "        \n",
              "  <svg xmlns=\"http://www.w3.org/2000/svg\" height=\"24px\"viewBox=\"0 0 24 24\"\n",
              "       width=\"24px\">\n",
              "    <path d=\"M0 0h24v24H0V0z\" fill=\"none\"/>\n",
              "    <path d=\"M18.56 5.44l.94 2.06.94-2.06 2.06-.94-2.06-.94-.94-2.06-.94 2.06-2.06.94zm-11 1L8.5 8.5l.94-2.06 2.06-.94-2.06-.94L8.5 2.5l-.94 2.06-2.06.94zm10 10l.94 2.06.94-2.06 2.06-.94-2.06-.94-.94-2.06-.94 2.06-2.06.94z\"/><path d=\"M17.41 7.96l-1.37-1.37c-.4-.4-.92-.59-1.43-.59-.52 0-1.04.2-1.43.59L10.3 9.45l-7.72 7.72c-.78.78-.78 2.05 0 2.83L4 21.41c.39.39.9.59 1.41.59.51 0 1.02-.2 1.41-.59l7.78-7.78 2.81-2.81c.8-.78.8-2.07 0-2.86zM5.41 20L4 18.59l7.72-7.72 1.47 1.35L5.41 20z\"/>\n",
              "  </svg>\n",
              "      </button>\n",
              "      \n",
              "  <style>\n",
              "    .colab-df-container {\n",
              "      display:flex;\n",
              "      flex-wrap:wrap;\n",
              "      gap: 12px;\n",
              "    }\n",
              "\n",
              "    .colab-df-convert {\n",
              "      background-color: #E8F0FE;\n",
              "      border: none;\n",
              "      border-radius: 50%;\n",
              "      cursor: pointer;\n",
              "      display: none;\n",
              "      fill: #1967D2;\n",
              "      height: 32px;\n",
              "      padding: 0 0 0 0;\n",
              "      width: 32px;\n",
              "    }\n",
              "\n",
              "    .colab-df-convert:hover {\n",
              "      background-color: #E2EBFA;\n",
              "      box-shadow: 0px 1px 2px rgba(60, 64, 67, 0.3), 0px 1px 3px 1px rgba(60, 64, 67, 0.15);\n",
              "      fill: #174EA6;\n",
              "    }\n",
              "\n",
              "    [theme=dark] .colab-df-convert {\n",
              "      background-color: #3B4455;\n",
              "      fill: #D2E3FC;\n",
              "    }\n",
              "\n",
              "    [theme=dark] .colab-df-convert:hover {\n",
              "      background-color: #434B5C;\n",
              "      box-shadow: 0px 1px 3px 1px rgba(0, 0, 0, 0.15);\n",
              "      filter: drop-shadow(0px 1px 2px rgba(0, 0, 0, 0.3));\n",
              "      fill: #FFFFFF;\n",
              "    }\n",
              "  </style>\n",
              "\n",
              "      <script>\n",
              "        const buttonEl =\n",
              "          document.querySelector('#df-28c4205e-4fa0-4b78-9066-561f901471a3 button.colab-df-convert');\n",
              "        buttonEl.style.display =\n",
              "          google.colab.kernel.accessAllowed ? 'block' : 'none';\n",
              "\n",
              "        async function convertToInteractive(key) {\n",
              "          const element = document.querySelector('#df-28c4205e-4fa0-4b78-9066-561f901471a3');\n",
              "          const dataTable =\n",
              "            await google.colab.kernel.invokeFunction('convertToInteractive',\n",
              "                                                     [key], {});\n",
              "          if (!dataTable) return;\n",
              "\n",
              "          const docLinkHtml = 'Like what you see? Visit the ' +\n",
              "            '<a target=\"_blank\" href=https://colab.research.google.com/notebooks/data_table.ipynb>data table notebook</a>'\n",
              "            + ' to learn more about interactive tables.';\n",
              "          element.innerHTML = '';\n",
              "          dataTable['output_type'] = 'display_data';\n",
              "          await google.colab.output.renderOutput(dataTable, element);\n",
              "          const docLink = document.createElement('div');\n",
              "          docLink.innerHTML = docLinkHtml;\n",
              "          element.appendChild(docLink);\n",
              "        }\n",
              "      </script>\n",
              "    </div>\n",
              "  </div>\n",
              "  "
            ]
          },
          "metadata": {},
          "execution_count": 12
        }
      ],
      "source": [
        "candy = pd.read_csv('/content/candy-data.csv')\n",
        "candy.head()"
      ]
    },
    {
      "cell_type": "code",
      "execution_count": 13,
      "metadata": {
        "id": "ft-FSzAm3Rnp"
      },
      "outputs": [],
      "source": [
        "X = candy.drop(['competitorname', 'winpercent'], axis=1).to_numpy()\n",
        "y = candy['winpercent'].to_numpy()"
      ]
    },
    {
      "cell_type": "code",
      "execution_count": 14,
      "metadata": {
        "id": "5IJXVNLk3Rnp",
        "outputId": "4cb70f06-b7df-4abd-8152-f0a391e0f967",
        "colab": {
          "base_uri": "https://localhost:8080/"
        }
      },
      "outputs": [
        {
          "output_type": "stream",
          "name": "stdout",
          "text": [
            "Number of training indices: 68\n",
            "Number of validation indices: 17\n",
            "Number of training indices: 68\n",
            "Number of validation indices: 17\n",
            "Number of training indices: 68\n",
            "Number of validation indices: 17\n",
            "Number of training indices: 68\n",
            "Number of validation indices: 17\n",
            "Number of training indices: 68\n",
            "Number of validation indices: 17\n"
          ]
        }
      ],
      "source": [
        "from sklearn.model_selection import KFold\n",
        "\n",
        "# Use KFold\n",
        "kf = KFold(n_splits=5, shuffle=True, random_state=1111)\n",
        "\n",
        "# Create splits\n",
        "splits = kf.split(X)\n",
        "\n",
        "# Print the number of indices\n",
        "for train_index, val_index in splits:\n",
        "    print(\"Number of training indices: %s\" % len(train_index))\n",
        "    print(\"Number of validation indices: %s\" % len(val_index))"
      ]
    },
    {
      "cell_type": "markdown",
      "metadata": {
        "id": "LZTIrBEe3Rnq"
      },
      "source": [
        "This dataset has 85 rows. You have created five splits - each containing 68 training and 17 validation indices. You can use these indices to complete 5-fold cross-validation."
      ]
    },
    {
      "cell_type": "markdown",
      "metadata": {
        "id": "WFDDnPlZ3Rnq"
      },
      "source": [
        "### Using KFold indices\n",
        "You have already created `splits`, which contains indices for the candy-data dataset to complete 5-fold cross-validation. To get a better estimate for how well a colleague's random forest model will perform on a new data, you want to run this model on the five different training and validation indices you just created.\n",
        "\n",
        "In this exercise, you will use these indices to check the accuracy of this model using the five different splits. A for loop has been provided to assist with this process."
      ]
    },
    {
      "cell_type": "code",
      "execution_count": 15,
      "metadata": {
        "id": "JWIjO1Xw3Rnq"
      },
      "outputs": [],
      "source": [
        "# Create splits\n",
        "splits = kf.split(X)"
      ]
    },
    {
      "cell_type": "code",
      "execution_count": 16,
      "metadata": {
        "id": "aPbFSCjd3Rnq",
        "outputId": "e1d9a2ab-1001-4d7d-befb-83deffbef1e9",
        "colab": {
          "base_uri": "https://localhost:8080/"
        }
      },
      "outputs": [
        {
          "output_type": "stream",
          "name": "stdout",
          "text": [
            "Split accuracy: 150.99298148707666\n",
            "Split accuracy: 171.22206240542593\n",
            "Split accuracy: 131.72569156195593\n",
            "Split accuracy: 80.61940183841385\n",
            "Split accuracy: 221.63020627476214\n"
          ]
        }
      ],
      "source": [
        "from sklearn.ensemble import RandomForestRegressor\n",
        "from sklearn.metrics import mean_squared_error\n",
        "\n",
        "rfc = RandomForestRegressor(n_estimators=25, random_state=1111)\n",
        "\n",
        "# Access the training and validation indices of splits\n",
        "for train_index, val_index in splits:\n",
        "    # Setup the training and validation data\n",
        "    X_train, y_train = X[train_index], y[train_index]\n",
        "    X_val, y_val = X[val_index], y[val_index]\n",
        "    \n",
        "    # Fit the random forest model\n",
        "    rfc.fit(X_train, y_train)\n",
        "    \n",
        "    # Make predictions, and print the accuracy\n",
        "    predictions = rfc.predict(X_val)\n",
        "    print(\"Split accuracy: \" + str(mean_squared_error(y_val, predictions)))"
      ]
    },
    {
      "cell_type": "markdown",
      "metadata": {
        "id": "wMucu2vx3Rnr"
      },
      "source": [
        "`KFold()` is a great method for accessing individual indices when completing cross-validation. One drawback is needing a for loop to work through the indices though."
      ]
    },
    {
      "cell_type": "markdown",
      "metadata": {
        "id": "IQPhhpS13Rnr"
      },
      "source": [
        "## sklearn's cross_val_score()"
      ]
    },
    {
      "cell_type": "markdown",
      "metadata": {
        "id": "BgjQQ50P3Rnr"
      },
      "source": [
        "### scikit-learn's methods\n",
        "You have decided to build a regression model to predict the number of new employees your company will successfully hire next month. You open up a new Python script to get started, but you quickly realize that sklearn has a lot of different modules. Let's make sure you understand the names of the modules, the methods, and which module contains which method.\n",
        "\n",
        "Follow the instructions below to load in all of the necessary methods for completing cross-validation using sklearn. You will use modules:\n",
        "\n",
        "- metrics\n",
        "- model_selection\n",
        "- ensemble"
      ]
    },
    {
      "cell_type": "code",
      "execution_count": 17,
      "metadata": {
        "id": "Qe3VEYsV3Rns"
      },
      "outputs": [],
      "source": [
        "from sklearn.model_selection import cross_val_score\n",
        "from sklearn.ensemble import RandomForestRegressor\n",
        "from sklearn.metrics import mean_squared_error, make_scorer"
      ]
    },
    {
      "cell_type": "markdown",
      "metadata": {
        "id": "Tqw4QdOr3Rns"
      },
      "source": [
        "### Implement cross_val_score()\n",
        "Your company has created several new candies to sell, but they are not sure if they should release all five of them. To predict the popularity of these new candies, you have been asked to build a regression model using the candy dataset. Remember that the response value is a head-to-head win-percentage against other candies.\n",
        "\n",
        "Before you begin trying different regression models, you have decided to run cross-validation on a simple random forest model to get a baseline error to compare with any future results."
      ]
    },
    {
      "cell_type": "code",
      "execution_count": 18,
      "metadata": {
        "id": "g_jDoSAc3Rns",
        "outputId": "7ac03b94-9b3e-48f5-829a-3f11908fae90",
        "colab": {
          "base_uri": "https://localhost:8080/"
        }
      },
      "outputs": [
        {
          "output_type": "stream",
          "name": "stdout",
          "text": [
            "131.30323056938693\n"
          ]
        }
      ],
      "source": [
        "rfc = RandomForestRegressor(n_estimators=25, random_state=1111)\n",
        "mse = make_scorer(mean_squared_error)\n",
        "\n",
        "# Setup cross_val_score\n",
        "cv = cross_val_score(estimator=rfc, X=X_train, y=y_train, cv=10, scoring=mse)\n",
        "\n",
        "# Print the mean error\n",
        "print(cv.mean())"
      ]
    },
    {
      "cell_type": "markdown",
      "metadata": {
        "id": "GeBoXLFK3Rnt"
      },
      "source": [
        "You now have a baseline score to build on. If you decide to build additional models or try new techniques, you should try to get an error lower than 155.56. Lower errors indicate that your popularity predictions are improving."
      ]
    },
    {
      "cell_type": "markdown",
      "metadata": {
        "id": "54LwuEEc3Rnt"
      },
      "source": [
        "## Leave-one-out-cross-validation (LOOCV)\n",
        "- LOOCV\n",
        "![loocv](https://github.com/goodboychan/chans_jupyter/blob/main/_notebooks/image/loocv.png?raw=1)\n",
        "- When to use LOOCV?\n",
        "    - The amount of training data is limited\n",
        "    - You want the absolute best error estimate for new data\n",
        "- Be cautious when:\n",
        "    - Computation resources are limited\n",
        "    - You have a lot of data\n",
        "    - You have a lot of parameters to test"
      ]
    },
    {
      "cell_type": "markdown",
      "metadata": {
        "id": "Mc9ISx9I3Rnt"
      },
      "source": [
        "### Leave-one-out-cross-validation\n",
        "Let's assume your favorite candy is not in the candy dataset, and that you are interested in the popularity of this candy. Using 5-fold cross-validation will train on only 80% of the data at a time. The candy dataset only has 85 rows though, and leaving out 20% of the data could hinder our model. However, using leave-one-out-cross-validation allows us to make the most out of our limited dataset and will give you the best estimate for your favorite candy's popularity!\n",
        "\n"
      ]
    },
    {
      "cell_type": "code",
      "execution_count": 19,
      "metadata": {
        "id": "dW2mO9-U3Rnu",
        "outputId": "ca15eeda-f4c3-40c0-8be4-8cf5ad8620d1",
        "colab": {
          "base_uri": "https://localhost:8080/"
        }
      },
      "outputs": [
        {
          "output_type": "stream",
          "name": "stdout",
          "text": [
            "The mean of the errors is: 9.52044832324183.\n",
            "The standard deviation of the errors is: 7.349020637882744.\n"
          ]
        }
      ],
      "source": [
        "from sklearn.metrics import mean_absolute_error\n",
        "# Create scorer\n",
        "mae_scorer = make_scorer(mean_absolute_error)\n",
        "\n",
        "rfr = RandomForestRegressor(n_estimators=15, random_state=1111)\n",
        "\n",
        "# Implement LOOCV\n",
        "scores = cross_val_score(rfr, X, y, cv=85, scoring=mae_scorer)\n",
        "\n",
        "# Print the mean and standard deviation\n",
        "print(\"The mean of the errors is: %s.\" % np.mean(scores))\n",
        "print(\"The standard deviation of the errors is: %s.\" % np.std(scores))"
      ]
    },
    {
      "cell_type": "markdown",
      "metadata": {
        "id": "9eBsskxy3Rnv"
      },
      "source": [
        "You have come along way with model validation techniques. The final chapter will wrap up model validation by discussing how to select the best model and give an introduction to parameter tuning."
      ]
    },
    {
      "cell_type": "code",
      "source": [],
      "metadata": {
        "id": "vGP--25p7Mnh"
      },
      "execution_count": null,
      "outputs": []
    }
  ],
  "metadata": {
    "kernelspec": {
      "display_name": "Python 3",
      "language": "python",
      "name": "python3"
    },
    "language_info": {
      "codemirror_mode": {
        "name": "ipython",
        "version": 3
      },
      "file_extension": ".py",
      "mimetype": "text/x-python",
      "name": "python",
      "nbconvert_exporter": "python",
      "pygments_lexer": "ipython3",
      "version": "3.7.6"
    },
    "colab": {
      "provenance": [],
      "include_colab_link": true
    }
  },
  "nbformat": 4,
  "nbformat_minor": 0
}